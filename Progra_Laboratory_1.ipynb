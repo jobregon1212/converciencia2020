{
  "nbformat": 4,
  "nbformat_minor": 0,
  "metadata": {
    "colab": {
      "private_outputs": true,
      "provenance": []
    },
    "kernelspec": {
      "name": "python3",
      "display_name": "Python 3"
    },
    "language_info": {
      "name": "python"
    }
  },
  "cells": [
    {
      "cell_type": "markdown",
      "source": [
        "# **Laboratory 1 - Introduction to Basic Programming Class**\n",
        "\n",
        "\n",
        "*   This is an introductory exercise for you to learn about using google colab and github.\n",
        "*   For this laboratory, please write your basic information and in the programming section remove the comment # YOUR CODE HERE and write your answer\n",
        "\n"
      ],
      "metadata": {
        "id": "j19CztE157cU"
      }
    },
    {
      "cell_type": "markdown",
      "source": [
        "**Write your basic information**\n",
        "\n",
        "* Full Name:  Josue Obregon\n",
        "* Student ID: 2014\n",
        "* GitHub ID: jobregon1212\n",
        "* Date: frequently"
      ],
      "metadata": {
        "id": "IRrAixXb7z13"
      }
    },
    {
      "cell_type": "markdown",
      "source": [
        "**Question 1: Write your first python code**\n",
        "\n",
        "* **replace \"# YOUR CODE HERE\" with \"Hello world!\"**\n",
        "\n",
        "* P.D. be careful with the capital words and spaces."
      ],
      "metadata": {
        "id": "QnHs8SbI8TtP"
      }
    },
    {
      "cell_type": "code",
      "execution_count": null,
      "metadata": {
        "id": "cvnfkELL56q7"
      },
      "outputs": [],
      "source": [
        "def hello_world():\n",
        "  return \"Hello world!\""
      ]
    },
    {
      "cell_type": "markdown",
      "source": [
        "**Question 2: Write the following answer**\n",
        "* For the following variables a = 11 and b = 12\n",
        "* **\"What is (a + b)?\"**\n",
        "\n",
        "* replace \"# YOUR CODE HERE\" with your answer without \"\" "
      ],
      "metadata": {
        "id": "mGPvRs8f-QNY"
      }
    },
    {
      "cell_type": "code",
      "source": [
        "def a_plus_b():\n",
        "  return 23"
      ],
      "metadata": {
        "id": "G6UV87yt7iii"
      },
      "execution_count": null,
      "outputs": []
    },
    {
      "cell_type": "markdown",
      "source": [
        "**Question 3: Write the following answer**\n",
        "* For the following variables a = 15 and b = 12\n",
        "* **\"What is (a - b)?\"**\n",
        "\n",
        "* replace \"# YOUR CODE HERE\" with your answer without \"\" "
      ],
      "metadata": {
        "id": "D3fBCBQK_VGK"
      }
    },
    {
      "cell_type": "code",
      "source": [
        "def a_minus_b():\n",
        "  return 3"
      ],
      "metadata": {
        "id": "v4aNykmK_XbI"
      },
      "execution_count": null,
      "outputs": []
    },
    {
      "cell_type": "markdown",
      "source": [
        "**Question 4: Write the following answer**\n",
        "* For the following variables a = 12 and b = 12\n",
        "* **\"What is (a * b)?\"**\n",
        "\n",
        "* replace \"# YOUR CODE HERE\" with your answer without \"\" "
      ],
      "metadata": {
        "id": "bZLVVwFZ_V_W"
      }
    },
    {
      "cell_type": "code",
      "source": [
        "def a_times_b():\n",
        "  return 144"
      ],
      "metadata": {
        "id": "pMSoa8aA_YUT"
      },
      "execution_count": null,
      "outputs": []
    },
    {
      "cell_type": "markdown",
      "source": [
        "**Question 5: Write the following answer**\n",
        "* For the following variables a = 24 and b = 12\n",
        "* **\"What is (a / b)?\"**\n",
        "\n",
        "* replace \"# YOUR CODE HERE\" with your answer without \"\" "
      ],
      "metadata": {
        "id": "au8wx2jNC97o"
      }
    },
    {
      "cell_type": "code",
      "source": [
        "def a_div_b():\n",
        "  return 2"
      ],
      "metadata": {
        "id": "TugCTEHzCrwq"
      },
      "execution_count": null,
      "outputs": []
    },
    {
      "cell_type": "markdown",
      "source": [
        "## **Good Work! Please save it and upload it in the correspoding GitHub Repository for Laboratory #1**"
      ],
      "metadata": {
        "id": "9Zk7QXYODAYL"
      }
    }
  ]
}