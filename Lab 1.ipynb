{
  "nbformat": 4,
  "nbformat_minor": 5,
  "metadata": {
    "kernelspec": {
      "display_name": "Python 3",
      "language": "python",
      "name": "python3"
    },
    "language_info": {
      "codemirror_mode": {
        "name": "ipython",
        "version": 3
      },
      "file_extension": ".py",
      "mimetype": "text/x-python",
      "name": "python",
      "nbconvert_exporter": "python",
      "pygments_lexer": "ipython3",
      "version": "3.7.11"
    },
    "colab": {
      "name": "Lab 1.ipynb",
      "provenance": []
    }
  },
  "cells": [
    {
      "cell_type": "markdown",
      "metadata": {
        "deletable": false,
        "editable": false,
        "nbgrader": {
          "cell_type": "markdown",
          "checksum": "527d929513ef02dd03068b2a1cb96420",
          "grade": false,
          "grade_id": "Introduction",
          "locked": true,
          "schema_version": 3,
          "solution": false,
          "task": false
        },
        "id": "fa6e4020"
      },
      "source": [
        "# Laboratory 1 - Introduction to Programming Languages Class\n",
        "\n",
        "\n",
        "* This is an introductory exercise for you to learn about using google colab and github.\n",
        "\n",
        "* Each question has a value of 1 point\n",
        "\n",
        "* For this laboratory each exercise has its answer, please copy the answer after the comment `# YOUR CODE HERE` in their respective question\n"
      ],
      "id": "fa6e4020"
    },
    {
      "cell_type": "markdown",
      "metadata": {
        "deletable": false,
        "editable": false,
        "nbgrader": {
          "cell_type": "markdown",
          "checksum": "3f4e814e9454b01af2dc3c722c3a22f7",
          "grade": false,
          "grade_id": "q1_desc",
          "locked": true,
          "schema_version": 3,
          "solution": false,
          "task": false
        },
        "id": "380e47a4"
      },
      "source": [
        "**Question 1:** Write your basic information\n",
        "    \n",
        "    * Full Name:  Josue\n",
        "    * Student ID: 12345\n",
        "    * GitHub ID: jobregon1212\n",
        "    * Faculty/ Major: Industrial Engineering\n",
        "    * Interest research areas: Machine Learning\n",
        "    * Date: 2021.09.08\n",
        "  \n",
        "    "
      ],
      "id": "380e47a4"
    },
    {
      "cell_type": "markdown",
      "metadata": {
        "deletable": false,
        "nbgrader": {
          "cell_type": "markdown",
          "checksum": "06e5e6196716bbbb7c10306f5ad99f13",
          "grade": true,
          "grade_id": "q1_ans",
          "locked": false,
          "points": 10,
          "schema_version": 3,
          "solution": true,
          "task": false
        },
        "id": "0046fc0e"
      },
      "source": [
        "YOUR ANSWER HERE"
      ],
      "id": "0046fc0e"
    },
    {
      "cell_type": "markdown",
      "metadata": {
        "deletable": false,
        "editable": false,
        "nbgrader": {
          "cell_type": "markdown",
          "checksum": "5d15160e2e534d728ba60120a089ea72",
          "grade": false,
          "grade_id": "q2_desc",
          "locked": true,
          "schema_version": 3,
          "solution": false,
          "task": false
        },
        "id": "7c2a5ec6"
      },
      "source": [
        "**Question 2:** Create the variables *a* = 11 and *b* = 12. Print the sum both variables (*a* + *b*)\n",
        "\n",
        "*Answer:* > \n",
        "- `a = 11`\n",
        "- `b = 12`\n",
        "- `print (a + b)`\n"
      ],
      "id": "7c2a5ec6"
    },
    {
      "cell_type": "code",
      "metadata": {
        "deletable": false,
        "nbgrader": {
          "cell_type": "code",
          "checksum": "e195a99c985e2cdae54fc6144d217d22",
          "grade": false,
          "grade_id": "q2_ans",
          "locked": false,
          "schema_version": 3,
          "solution": true,
          "task": false
        },
        "id": "47aced32",
        "outputId": "826517c8-2aac-427e-f62e-c6c8a96730af",
        "colab": {
          "base_uri": "https://localhost:8080/"
        }
      },
      "source": [
        "# YOUR CODE HERE\n",
        "a=11\n",
        "b=12\n",
        "print(a+b)"
      ],
      "id": "47aced32",
      "execution_count": 1,
      "outputs": [
        {
          "output_type": "stream",
          "name": "stdout",
          "text": [
            "23\n"
          ]
        }
      ]
    },
    {
      "cell_type": "code",
      "metadata": {
        "deletable": false,
        "editable": false,
        "nbgrader": {
          "cell_type": "code",
          "checksum": "02a2e2723f1ac7082a40b5d64e6ad9db",
          "grade": true,
          "grade_id": "q2_test",
          "locked": true,
          "points": 10,
          "schema_version": 3,
          "solution": false,
          "task": false
        },
        "id": "8f08cf23"
      },
      "source": [
        "\"\"\"Check that a + b sum 23\"\"\"\n",
        "assert (a + b == 23)"
      ],
      "id": "8f08cf23",
      "execution_count": 2,
      "outputs": []
    },
    {
      "cell_type": "markdown",
      "metadata": {
        "deletable": false,
        "editable": false,
        "nbgrader": {
          "cell_type": "markdown",
          "checksum": "ea59413bf9e7a7f5a05f4f220d035635",
          "grade": false,
          "grade_id": "q3_desc",
          "locked": true,
          "schema_version": 3,
          "solution": false,
          "task": false
        },
        "id": "13f28775"
      },
      "source": [
        "**Question 3:** Create the variables *h* = 11 and *i* = 12. After, add 1 to the variable *h* and print the sum of *h* and *i*  \n",
        "\n",
        "*Answer:* > \n",
        "- `h = 11`\n",
        "- `i = 12`\n",
        "- `h = h + 1` \n",
        "- `print (h + i)`"
      ],
      "id": "13f28775"
    },
    {
      "cell_type": "code",
      "metadata": {
        "deletable": false,
        "nbgrader": {
          "cell_type": "code",
          "checksum": "2fc9935a068ab82211df6a0f58eebd57",
          "grade": false,
          "grade_id": "q3_ans",
          "locked": false,
          "schema_version": 3,
          "solution": true,
          "task": false
        },
        "id": "61de61e2",
        "outputId": "8ec29f1b-7066-4e2a-e7ed-c22e3eb37360",
        "colab": {
          "base_uri": "https://localhost:8080/"
        }
      },
      "source": [
        "# YOUR CODE HERE\n",
        "h=11\n",
        "i=12\n",
        "h=h+1\n",
        "print(h+i)"
      ],
      "id": "61de61e2",
      "execution_count": 3,
      "outputs": [
        {
          "output_type": "stream",
          "name": "stdout",
          "text": [
            "24\n"
          ]
        }
      ]
    },
    {
      "cell_type": "code",
      "metadata": {
        "deletable": false,
        "editable": false,
        "nbgrader": {
          "cell_type": "code",
          "checksum": "080ac43d0e7dbb76df3a06ff1943aa2f",
          "grade": true,
          "grade_id": "q3_test",
          "locked": true,
          "points": 10,
          "schema_version": 3,
          "solution": false,
          "task": false
        },
        "id": "d59cd96a"
      },
      "source": [
        ""
      ],
      "id": "d59cd96a",
      "execution_count": 3,
      "outputs": []
    },
    {
      "cell_type": "markdown",
      "metadata": {
        "deletable": false,
        "editable": false,
        "nbgrader": {
          "cell_type": "markdown",
          "checksum": "9fc95a9460812ca469c5f8457fbfb51e",
          "grade": false,
          "grade_id": "q4_desc",
          "locked": true,
          "schema_version": 3,
          "solution": false,
          "task": false
        },
        "id": "754c016e"
      },
      "source": [
        "**Question 4:** Create the variables *m* = 12 and *n* = 12. Next, add 5 to the variable *n* and print the rest of *m* and *n* \n",
        "\n",
        "*Answer:* > \n",
        "- `m = 12`\n",
        "- `n = 12`\n",
        "- `n = n + 5` \n",
        "- `print (m - n)`\n"
      ],
      "id": "754c016e"
    },
    {
      "cell_type": "code",
      "metadata": {
        "deletable": false,
        "nbgrader": {
          "cell_type": "code",
          "checksum": "4b171a81b89b04dff7621a8aa44c9237",
          "grade": false,
          "grade_id": "q4_ans",
          "locked": false,
          "schema_version": 3,
          "solution": true,
          "task": false
        },
        "id": "5affc956",
        "outputId": "4431887a-f23c-47fa-d952-547c3b98bca7",
        "colab": {
          "base_uri": "https://localhost:8080/"
        }
      },
      "source": [
        "# YOUR CODE HERE\n",
        "m = 12\n",
        "n = 12\n",
        "n = n + 5\n",
        "print (m - n)"
      ],
      "id": "5affc956",
      "execution_count": 4,
      "outputs": [
        {
          "output_type": "stream",
          "name": "stdout",
          "text": [
            "-5\n"
          ]
        }
      ]
    },
    {
      "cell_type": "code",
      "metadata": {
        "deletable": false,
        "editable": false,
        "nbgrader": {
          "cell_type": "code",
          "checksum": "e2d2e19b60274bbf36c17c544cebd85f",
          "grade": true,
          "grade_id": "q4_test",
          "locked": true,
          "points": 10,
          "schema_version": 3,
          "solution": false,
          "task": false
        },
        "id": "c1ec3798"
      },
      "source": [
        ""
      ],
      "id": "c1ec3798",
      "execution_count": null,
      "outputs": []
    },
    {
      "cell_type": "markdown",
      "metadata": {
        "deletable": false,
        "editable": false,
        "nbgrader": {
          "cell_type": "markdown",
          "checksum": "72fa0dce603e54f11e3d052e60767714",
          "grade": false,
          "grade_id": "q5_desc",
          "locked": true,
          "schema_version": 3,
          "solution": false,
          "task": false
        },
        "id": "fb4f8138"
      },
      "source": [
        "**Question 5:** Create the variables *k* = 12 and *l* = 17. Next, rest 5 to the variable *k* and rest 10 to variable *l* print the sum of *k* and *l*  \n",
        "\n",
        "*Answer:* > \n",
        "- `k = 12`\n",
        "- `l = 17`\n",
        "- `k = k - 5` \n",
        "- `l = l - 10` \n",
        "- `print (k + l)`"
      ],
      "id": "fb4f8138"
    },
    {
      "cell_type": "code",
      "metadata": {
        "deletable": false,
        "nbgrader": {
          "cell_type": "code",
          "checksum": "0250afeaaa8f96dde3ef816354dce02d",
          "grade": false,
          "grade_id": "q5_ans",
          "locked": false,
          "schema_version": 3,
          "solution": true,
          "task": false
        },
        "id": "d1f0787e",
        "outputId": "7f1ff268-4898-4020-93e3-2b24db36a724",
        "colab": {
          "base_uri": "https://localhost:8080/"
        }
      },
      "source": [
        "# YOUR CODE HERE\n",
        "k = 12\n",
        "l = 17\n",
        "k = k - 5\n",
        "l = l - 10\n",
        "print (k + l)"
      ],
      "id": "d1f0787e",
      "execution_count": 5,
      "outputs": [
        {
          "output_type": "stream",
          "name": "stdout",
          "text": [
            "14\n"
          ]
        }
      ]
    },
    {
      "cell_type": "code",
      "metadata": {
        "deletable": false,
        "editable": false,
        "nbgrader": {
          "cell_type": "code",
          "checksum": "dec9d46ff1416d7514b40b6bc869ef27",
          "grade": true,
          "grade_id": "q5_test",
          "locked": true,
          "points": 10,
          "schema_version": 3,
          "solution": false,
          "task": false
        },
        "id": "f6aee492"
      },
      "source": [
        ""
      ],
      "id": "f6aee492",
      "execution_count": null,
      "outputs": []
    },
    {
      "cell_type": "markdown",
      "metadata": {
        "deletable": false,
        "editable": false,
        "nbgrader": {
          "cell_type": "markdown",
          "checksum": "ab849c190d0e01b53ebb919dbb79328a",
          "grade": false,
          "grade_id": "q6_desc",
          "locked": true,
          "schema_version": 3,
          "solution": false,
          "task": false
        },
        "id": "11ae6857"
      },
      "source": [
        "**Question 6:** Write a program to display the current date and time. \n",
        "\n",
        "*Answer:* > \n",
        "\n",
        "- `import datetime`\n",
        "- `now = datetime.datetime.now()`\n",
        "- `print (\"Current date and time : \")`\n",
        "- `print (now.strftime(\"%Y-%m-%d %H:%M:%S\"))`"
      ],
      "id": "11ae6857"
    },
    {
      "cell_type": "code",
      "metadata": {
        "deletable": false,
        "nbgrader": {
          "cell_type": "code",
          "checksum": "3b18f284f67a6c0394b5c5d1a1c9ae47",
          "grade": false,
          "grade_id": "q6_ans",
          "locked": false,
          "schema_version": 3,
          "solution": true,
          "task": false
        },
        "id": "41895a44",
        "outputId": "9da67429-efd4-4d79-f2f3-90e21b3f03f6",
        "colab": {
          "base_uri": "https://localhost:8080/"
        }
      },
      "source": [
        "# YOUR CODE HERE\n",
        "import datetime\n",
        "now = datetime.datetime.now()\n",
        "print (\"Current date and time : \")\n",
        "print (now.strftime(\"%Y-%m-%d %H:%M:%S\"))"
      ],
      "id": "41895a44",
      "execution_count": 6,
      "outputs": [
        {
          "output_type": "stream",
          "name": "stdout",
          "text": [
            "Current date and time : \n",
            "2021-09-08 01:28:00\n"
          ]
        }
      ]
    },
    {
      "cell_type": "code",
      "metadata": {
        "deletable": false,
        "editable": false,
        "nbgrader": {
          "cell_type": "code",
          "checksum": "64d3f9287f9f4c6d7fd24b4257d75c5a",
          "grade": true,
          "grade_id": "q6_test",
          "locked": true,
          "points": 10,
          "schema_version": 3,
          "solution": false,
          "task": false
        },
        "id": "e930e9c2"
      },
      "source": [
        ""
      ],
      "id": "e930e9c2",
      "execution_count": null,
      "outputs": []
    },
    {
      "cell_type": "markdown",
      "metadata": {
        "deletable": false,
        "editable": false,
        "nbgrader": {
          "cell_type": "markdown",
          "checksum": "af02fd342ad0b42cb1ac79ed077a3ac9",
          "grade": false,
          "grade_id": "q7_desc",
          "locked": true,
          "schema_version": 3,
          "solution": false,
          "task": false
        },
        "id": "742f4d50"
      },
      "source": [
        "**Question 7:** Write a function which accepts the radius of a circle from the user and compute the area.  \n",
        "\n",
        "*Answer:* > \n",
        "\n",
        "- `from math import pi`\n",
        "- `def radius (r):`\n",
        "    - `   area = pi * r**2`\n",
        "    - `   return area`"
      ],
      "id": "742f4d50"
    },
    {
      "cell_type": "code",
      "metadata": {
        "deletable": false,
        "nbgrader": {
          "cell_type": "code",
          "checksum": "0ef3c39b6a1972740052033903802d16",
          "grade": false,
          "grade_id": "q7_ans",
          "locked": false,
          "schema_version": 3,
          "solution": true,
          "task": false
        },
        "id": "a06d9a2b"
      },
      "source": [
        "# YOUR CODE HERE\n",
        "from math import pi\n",
        "def radius (r):\n",
        "  area = pi * r**2\n",
        "  return area"
      ],
      "id": "a06d9a2b",
      "execution_count": 7,
      "outputs": []
    },
    {
      "cell_type": "code",
      "metadata": {
        "deletable": false,
        "editable": false,
        "nbgrader": {
          "cell_type": "code",
          "checksum": "69033bf1d53e04fd8bb26172f9458a5e",
          "grade": true,
          "grade_id": "q7_test",
          "locked": true,
          "points": 10,
          "schema_version": 3,
          "solution": false,
          "task": false
        },
        "id": "992abce9"
      },
      "source": [
        "\"\"\"Check the radios of 1 is equal to Pi\"\"\"\n",
        "assert(radius(1) == 3.141592653589793)\n"
      ],
      "id": "992abce9",
      "execution_count": 8,
      "outputs": []
    },
    {
      "cell_type": "markdown",
      "metadata": {
        "deletable": false,
        "editable": false,
        "nbgrader": {
          "cell_type": "markdown",
          "checksum": "0aa069b5a48bdd5801b509475e78e4df",
          "grade": false,
          "grade_id": "q8_desc",
          "locked": true,
          "schema_version": 3,
          "solution": false,
          "task": false
        },
        "id": "f47468e0"
      },
      "source": [
        "**Question 8:** Connect to your google drive  \n",
        "\n",
        "*Answer:* > \n",
        "- `from google.colab import drive`\n",
        "- `drive.mount('/content/drive')`\n"
      ],
      "id": "f47468e0"
    },
    {
      "cell_type": "code",
      "metadata": {
        "deletable": false,
        "nbgrader": {
          "cell_type": "code",
          "checksum": "f7d4458cbcb5cd066a9b758985828308",
          "grade": true,
          "grade_id": "q8_ans",
          "locked": false,
          "points": 10,
          "schema_version": 3,
          "solution": true,
          "task": false
        },
        "id": "26594de6",
        "outputId": "600f65db-c6e7-4ca9-e41f-086bf364e03d",
        "colab": {
          "base_uri": "https://localhost:8080/"
        }
      },
      "source": [
        "# YOUR CODE HERE\n",
        "from google.colab import drive\n",
        "drive.mount('/content/drive')"
      ],
      "id": "26594de6",
      "execution_count": 9,
      "outputs": [
        {
          "output_type": "stream",
          "name": "stdout",
          "text": [
            "Mounted at /content/drive\n"
          ]
        }
      ]
    },
    {
      "cell_type": "markdown",
      "metadata": {
        "deletable": false,
        "editable": false,
        "nbgrader": {
          "cell_type": "markdown",
          "checksum": "7c70d9d1c42833f7f2ad195a0324ca87",
          "grade": false,
          "grade_id": "q9_desc",
          "locked": true,
          "schema_version": 3,
          "solution": false,
          "task": false
        },
        "id": "9780d8af"
      },
      "source": [
        "**Question 9:** Show in the directory you are currently in  \n",
        "\n",
        "*Answer:* > \n",
        "- `!pwd`"
      ],
      "id": "9780d8af"
    },
    {
      "cell_type": "code",
      "metadata": {
        "deletable": false,
        "nbgrader": {
          "cell_type": "code",
          "checksum": "ad9c052360cfddf5ca1471de4cf58db9",
          "grade": true,
          "grade_id": "q9_ans",
          "locked": false,
          "points": 10,
          "schema_version": 3,
          "solution": true,
          "task": false
        },
        "id": "590a1f16",
        "outputId": "4905ef1f-a9e2-4460-9731-2723310a5db7",
        "colab": {
          "base_uri": "https://localhost:8080/"
        }
      },
      "source": [
        "# YOUR CODE HERE\n",
        "!pwd"
      ],
      "id": "590a1f16",
      "execution_count": 10,
      "outputs": [
        {
          "output_type": "stream",
          "name": "stdout",
          "text": [
            "/content\n"
          ]
        }
      ]
    },
    {
      "cell_type": "markdown",
      "metadata": {
        "deletable": false,
        "editable": false,
        "nbgrader": {
          "cell_type": "markdown",
          "checksum": "d17c92a19de89dc4e463364cbf1fc691",
          "grade": false,
          "grade_id": "q10_desc",
          "locked": true,
          "schema_version": 3,
          "solution": false,
          "task": false
        },
        "id": "ab082d9a"
      },
      "source": [
        "**Question 10:** Show the files in the directory */drive/My Drive/Colab Notebooks*  \n",
        "\n",
        "*Answer:* > \n",
        "- `!ls 'drive/My Drive/Colab Notebooks'`\n"
      ],
      "id": "ab082d9a"
    },
    {
      "cell_type": "code",
      "metadata": {
        "deletable": false,
        "nbgrader": {
          "cell_type": "code",
          "checksum": "2cd36f9510595b4722801a87da0d1310",
          "grade": true,
          "grade_id": "q10_answ",
          "locked": false,
          "points": 10,
          "schema_version": 3,
          "solution": true,
          "task": false
        },
        "id": "dca20eb4",
        "outputId": "4b01c3b2-0a5d-4e66-f68c-4a0a0671ce6b",
        "colab": {
          "base_uri": "https://localhost:8080/"
        }
      },
      "source": [
        "# YOUR CODE HERE\n",
        "!ls 'drive/My Drive/Colab Notebooks'"
      ],
      "id": "dca20eb4",
      "execution_count": 11,
      "outputs": [
        {
          "output_type": "stream",
          "name": "stdout",
          "text": [
            " Untitled   Untitled0.ipynb  'Untitled (1)'  'Untitled (2)'\n"
          ]
        }
      ]
    },
    {
      "cell_type": "markdown",
      "metadata": {
        "deletable": false,
        "editable": false,
        "nbgrader": {
          "cell_type": "markdown",
          "checksum": "70ab56b89dfc3eadefcd6d758a3f732f",
          "grade": false,
          "grade_id": "Final",
          "locked": true,
          "schema_version": 3,
          "solution": false,
          "task": false
        },
        "id": "f908c6f1"
      },
      "source": [
        "### Congratulations! \n",
        "\n",
        "### You complete the first laboratory. Please save your file and save it in GitHub in Lab 1. "
      ],
      "id": "f908c6f1"
    },
    {
      "cell_type": "code",
      "metadata": {
        "id": "8kmJZgt9BdlQ"
      },
      "source": [
        ""
      ],
      "id": "8kmJZgt9BdlQ",
      "execution_count": null,
      "outputs": []
    }
  ]
}